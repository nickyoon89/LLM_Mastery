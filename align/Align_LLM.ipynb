{
 "cells": [
  {
   "cell_type": "code",
   "execution_count": null,
   "id": "50af875c-22fd-4246-a5e5-3d72844a7b93",
   "metadata": {},
   "outputs": [
    {
     "name": "stdout",
     "output_type": "stream",
     "text": [
      "Downloading files using Python\n"
     ]
    }
   ],
   "source": [
    "# Download files\n",
    "\n",
    "import requests, zipfile, io\n",
    "\n",
    "files_url = \"https://ideami.com/llm_align\"\n",
    "print(\"Downloading files using Python\")\n",
    "response = requests.get(files_url)\n",
    "zipfile.ZipFile(io.BytesIO(response.content)).extractall(\".\")"
   ]
  }
 ],
 "metadata": {
  "kernelspec": {
   "display_name": "Python 3 (ipykernel)",
   "language": "python",
   "name": "python3"
  },
  "language_info": {
   "codemirror_mode": {
    "name": "ipython",
    "version": 3
   },
   "file_extension": ".py",
   "mimetype": "text/x-python",
   "name": "python",
   "nbconvert_exporter": "python",
   "pygments_lexer": "ipython3",
   "version": "3.11.9"
  }
 },
 "nbformat": 4,
 "nbformat_minor": 5
}
