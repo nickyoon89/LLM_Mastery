{
 "cells": [
  {
   "cell_type": "code",
   "execution_count": 2,
   "id": "50af875c-22fd-4246-a5e5-3d72844a7b93",
   "metadata": {},
   "outputs": [
    {
     "name": "stdout",
     "output_type": "stream",
     "text": [
      "Downloading files using Python\n"
     ]
    }
   ],
   "source": [
    "# Download files\n",
    "\n",
    "import requests, zipfile, io\n",
    "\n",
    "files_url = \"https://ideami.com/llm_align\"\n",
    "print(\"Downloading files using Python\")\n",
    "# response = requests.get(files_url)\n",
    "# zipfile.ZipFile(io.BytesIO(response.content)).extractall(\".\")"
   ]
  },
  {
   "cell_type": "code",
   "execution_count": 3,
   "id": "d85d94c0-ca31-436f-927e-6e9ab647366f",
   "metadata": {},
   "outputs": [],
   "source": [
    "# Import libraries\n",
    "import os, sys\n",
    "import math\n",
    "from tqdm import tqdm\n",
    "from datetime import datetime\n",
    "import ipdb\n",
    "from typing import List, Dict, Union\n",
    "\n",
    "# PyTorch\n",
    "import torch\n",
    "import torch.nn as nn\n",
    "from torch.nn import functional as F\n",
    "\n",
    "# Import some HuggingFace Libraries\n",
    "import transformers\n",
    "from datasets import load_dataset, load_from_disk\n",
    "\n",
    "# Performance (if you have cuda)\n",
    "torch.backends.cuda.matmul.allow_tf32 = True\n",
    "torch.backends.cudnn.allow_tf32 = True\n",
    "\n",
    "torch.cuda.empty_cache()\n",
    "\n",
    "# Optional, for debugging, if you want to view entire tensors\n",
    "torch.set_printoptions(threshold=10000)"
   ]
  },
  {
   "cell_type": "code",
   "execution_count": 4,
   "id": "ae14152d-a859-4e26-b061-a367dd0be595",
   "metadata": {},
   "outputs": [
    {
     "name": "stdout",
     "output_type": "stream",
     "text": [
      "device: You will be using:  mps\n"
     ]
    }
   ],
   "source": [
    "# Training parameters\n",
    "batch_size = 1\n",
    "epochs = 3 # after 3 epochs can possibly degrade or get worse\n",
    "lr = 6e-5\n",
    "lr_warmup_steps = 100 # increase learning rate until 100 steps\n",
    "context = 1024\n",
    "alpha = 0.5 # weighting for the ORPO odds ratio (sort of loss calculation variable)\n",
    "prompt_max_size = 512 # limit for the prompt part of the interaction. \n",
    "# prompt: includes all the interaction except the last answer\n",
    "# response: includes either the positive chosen answer or the negative rejected one\n",
    "compile = False\n",
    "dtype = torch.bfloat16\n",
    "log_iters = 50\n",
    "\n",
    "#HYPERPARAMETERS\n",
    "dropout = 0.\n",
    "grad_clip = 1.0\n",
    "weight_decay = 0.0\n",
    "\n",
    "# DEVICE\n",
    "device = \"cuda\" if torch.cuda.is_available() else \"mps\" #iOS: mps, Windows: cpu\n",
    "print(\"device: You will be using: \", device)"
   ]
  },
  {
   "cell_type": "code",
   "execution_count": 5,
   "id": "de07e5b9-54de-4d6f-bc8e-2f1623f3e786",
   "metadata": {},
   "outputs": [
    {
     "name": "stderr",
     "output_type": "stream",
     "text": [
      "\u001b[34m\u001b[1mwandb\u001b[0m: Using wandb-core as the SDK backend.  Please refer to https://wandb.me/wandb-core for more information.\n",
      "\u001b[34m\u001b[1mwandb\u001b[0m: Currently logged in as: \u001b[33mnickyoon89\u001b[0m (\u001b[33mnickyoon89-miss-to-mrs-box\u001b[0m) to \u001b[32mhttps://api.wandb.ai\u001b[0m. Use \u001b[1m`wandb login --relogin`\u001b[0m to force relogin\n"
     ]
    },
    {
     "data": {
      "text/html": [
       "Tracking run with wandb version 0.19.8"
      ],
      "text/plain": [
       "<IPython.core.display.HTML object>"
      ]
     },
     "metadata": {},
     "output_type": "display_data"
    },
    {
     "data": {
      "text/html": [
       "Run data is saved locally in <code>/Users/nickyoon/Documents/GitHub/LLM_Mastery/align/wandb/run-20250421_212217-758pxbg8</code>"
      ],
      "text/plain": [
       "<IPython.core.display.HTML object>"
      ]
     },
     "metadata": {},
     "output_type": "display_data"
    },
    {
     "data": {
      "text/html": [
       "Syncing run <strong><a href='https://wandb.ai/nickyoon89-miss-to-mrs-box/alignment/runs/758pxbg8' target=\"_blank\">aligntest-run2025_04_21_21_22_16</a></strong> to <a href='https://wandb.ai/nickyoon89-miss-to-mrs-box/alignment' target=\"_blank\">Weights & Biases</a> (<a href='https://wandb.me/developer-guide' target=\"_blank\">docs</a>)<br>"
      ],
      "text/plain": [
       "<IPython.core.display.HTML object>"
      ]
     },
     "metadata": {},
     "output_type": "display_data"
    },
    {
     "data": {
      "text/html": [
       " View project at <a href='https://wandb.ai/nickyoon89-miss-to-mrs-box/alignment' target=\"_blank\">https://wandb.ai/nickyoon89-miss-to-mrs-box/alignment</a>"
      ],
      "text/plain": [
       "<IPython.core.display.HTML object>"
      ]
     },
     "metadata": {},
     "output_type": "display_data"
    },
    {
     "data": {
      "text/html": [
       " View run at <a href='https://wandb.ai/nickyoon89-miss-to-mrs-box/alignment/runs/758pxbg8' target=\"_blank\">https://wandb.ai/nickyoon89-miss-to-mrs-box/alignment/runs/758pxbg8</a>"
      ],
      "text/plain": [
       "<IPython.core.display.HTML object>"
      ]
     },
     "metadata": {},
     "output_type": "display_data"
    }
   ],
   "source": [
    "# LOGGING\n",
    "project_name = \"alignment\"\n",
    "wandb_log = True\n",
    "wandb_project = project_name\n",
    "# wandb_run_name = \"aligntest-run\"\n",
    "wandb_run_name = \"aligntest-run\" + datetime.now().strftime(\"%Y_%m_%d_%H_%M_%S\") # recommended\n",
    "\n",
    "if wandb_log:\n",
    "    import wandb\n",
    "    wandb.init(project=wandb_project, name=wandb_run_name)"
   ]
  },
  {
   "cell_type": "code",
   "execution_count": 7,
   "id": "2c43e48a-94b0-4478-8ed2-9aa1182b3d6d",
   "metadata": {},
   "outputs": [],
   "source": [
    "dataset_path = \".data/orpo_dataset\"\n",
    "dataset_name = \"mlabonne/orpo-dpo-mix-40k\"\n",
    "tokenizer_path = \"tokenizers/tok16384\"\n",
    "checkpoint_dir = \"./models/\"\n",
    "\n",
    "# Tokenizing Dataset\n",
    "# Load tokenizer in HuggingFace Format\n",
    "tokenizer = transformers.AutoTokenizer.from_pretrained(tokenizer_path)\n",
    "\n",
    "# Set our interaction template\n",
    "tokenizer.chat_template = \"{% for message in messages %}{% if message['role']=='user' %}\\n{{ '<|user|>'\\n' + message['content'] + eos_token }}\\n{% elif message['role'] == 'assistant' %}\\n{{ '<|assistant|>' + message['content'] + eos_token }}\\n{% endif %}\\n{% if loop.last and add_generation_prompt %}\\n{{ '<|assistant|>' }}\\n{%endif %}\\n{% endfor %}\"\n",
    "\n",
    "# Make padding token equal to the end of sentence token (which has ID of 2 in our case)\n",
    "tokenizer.pad_token = tokenizer.eos_token\n",
    "\n",
    "if os.path.exists(dataset_path):\n",
    "    dataset = load_from_disk(dataset_path)\n",
    "else:\n",
    "    dataset = load_dataset(dataset_name, split=\"all\")\n",
    "    # Now we will tokenize it\n",
    "    "
   ]
  }
 ],
 "metadata": {
  "kernelspec": {
   "display_name": "Python 3 (ipykernel)",
   "language": "python",
   "name": "python3"
  },
  "language_info": {
   "codemirror_mode": {
    "name": "ipython",
    "version": 3
   },
   "file_extension": ".py",
   "mimetype": "text/x-python",
   "name": "python",
   "nbconvert_exporter": "python",
   "pygments_lexer": "ipython3",
   "version": "3.11.11"
  }
 },
 "nbformat": 4,
 "nbformat_minor": 5
}
